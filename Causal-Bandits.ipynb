{
 "cells": [
  {
   "cell_type": "code",
   "execution_count": 19,
   "id": "ec1657f0-ea8e-4876-adb0-64da2ebf4dac",
   "metadata": {},
   "outputs": [],
   "source": [
    "import numpy as np\n",
    "import pandas as pd\n",
    "import matplotlib.pyplot as plt\n",
    "\n",
    "np.random.seed(0)"
   ]
  },
  {
   "cell_type": "markdown",
   "id": "downtown-collins",
   "metadata": {},
   "source": [
    "#### We first define an SCM as in ZB17 (see Proof of Prop 3)\n",
    "They have a non-Markovian SCM i.e., $U1$ is parent to $X$ and $Y$\n",
    "\n",
    "So we have $M$ defined as \n",
    "$$\n",
    "M = \\langle \\mathbf{U},\\mathbf{V},\\mathcal{F},P(\\mathbf{U}), \\rangle\n",
    "$$\n",
    "where $\\mathbf{U}=\\{U_1, U_2\\}, \\mathbf{V}=\\{X, Y\\}, \\mathcal{F}=\\{f_X=U_1, f_Y=X\\oplus U_1 \\oplus U2\\}$ and $P(\\mathbf{U})=P(U_1)*P(U_2)$ with $P(U_1)=P(U_2)\\sim B(.9)$."
   ]
  },
  {
   "cell_type": "code",
   "execution_count": 20,
   "id": "legal-greenhouse",
   "metadata": {},
   "outputs": [],
   "source": [
    "N = int(1e7) # make sure that N >= K down below\n",
    "p1 = p2 = 0.9\n",
    "\n",
    "def SCM(N,p1,p2):\n",
    "\n",
    "    U1 = np.random.binomial(1, p1, size=N)\n",
    "    U2 = np.random.binomial(1, p2, size=N)\n",
    "    X = U1\n",
    "    Y = np.logical_xor(np.logical_xor(X, U1), U2)\n",
    "    \n",
    "    #reshape\n",
    "    X = X.reshape(-1,1)\n",
    "    Y = Y.reshape(-1,1)\n",
    "    D = np.hstack((X,Y)) # data\n",
    "    \n",
    "    return D\n",
    "\n",
    "D = SCM(N, p1, p2) # this is observational"
   ]
  },
  {
   "cell_type": "markdown",
   "id": "cultural-allergy",
   "metadata": {},
   "source": [
    "We have simulated the SCM for $N$ steps/data points and now print the table."
   ]
  },
  {
   "cell_type": "code",
   "execution_count": 21,
   "id": "loved-damages",
   "metadata": {},
   "outputs": [
    {
     "name": "stdout",
     "output_type": "stream",
     "text": [
      "         X  Y\n",
      "0        1  0\n",
      "1        1  0\n",
      "2        1  0\n",
      "3        1  1\n",
      "4        1  1\n",
      "...     .. ..\n",
      "9999995  0  1\n",
      "9999996  1  1\n",
      "9999997  1  1\n",
      "9999998  1  1\n",
      "9999999  1  1\n",
      "\n",
      "[10000000 rows x 2 columns]\n"
     ]
    }
   ],
   "source": [
    "df = pd.DataFrame(D, columns=[\"X\",\"Y\"])\n",
    "print(df)"
   ]
  },
  {
   "cell_type": "markdown",
   "id": "average-granny",
   "metadata": {},
   "source": [
    "We compute the actual probabilities $p_{ij}$."
   ]
  },
  {
   "cell_type": "code",
   "execution_count": 22,
   "id": "falling-billy",
   "metadata": {},
   "outputs": [
    {
     "name": "stdout",
     "output_type": "stream",
     "text": [
      "p(X=0,Y=0)=0.0099409\n",
      "p(X=0,Y=1)=0.0899938\n",
      "p(X=1,Y=0)=0.0900321\n",
      "p(X=1,Y=1)=0.8100332\n",
      "\n"
     ]
    }
   ],
   "source": [
    "def joint_probs(df, N):\n",
    "\n",
    "    p00 = len(df[(df.X == 0) & (df.Y == 0)])\n",
    "    p01 = len(df[(df.X == 0) & (df.Y == 1)])\n",
    "    p10 = len(df[(df.X == 1) & (df.Y == 0)])\n",
    "    p11 = len(df[(df.X == 1) & (df.Y == 1)])\n",
    "\n",
    "    ps = [p00, p01, p10, p11]\n",
    "    ps = [x/N for x in ps]\n",
    "    \n",
    "    return ps\n",
    "\n",
    "ps = joint_probs(df, N)\n",
    "\n",
    "assert(np.allclose(sum(ps), 1.))\n",
    "\n",
    "print(f'p(X=0,Y=0)={ps[0]}\\np(X=0,Y=1)={ps[1]}\\np(X=1,Y=0)={ps[2]}\\np(X=1,Y=1)={ps[3]}\\n')"
   ]
  },
  {
   "cell_type": "markdown",
   "id": "assured-bedroom",
   "metadata": {},
   "source": [
    "Next we will check whether the $q_{ij}$ decompositions proposed do indeed work."
   ]
  },
  {
   "cell_type": "code",
   "execution_count": 23,
   "id": "acoustic-mattress",
   "metadata": {},
   "outputs": [],
   "source": [
    "# actually, don't know how to transform P(U) into P(R_x, R_y)"
   ]
  },
  {
   "cell_type": "markdown",
   "id": "casual-subject",
   "metadata": {},
   "source": [
    "Next we will check their precise numbers regarding causal effect $\\mu_x = \\mathbb{E}[Y|do(x)]$.\n",
    "Obviously, for the non-Markovian variant (where $U_1$ is a confounder, but note observed!) the effect is not\n",
    "identifiable, meaning that we can have another SCM $M'$ which has a different $\\mu_x$.\n",
    "\n",
    "First, we will intervene $M$ to create $M'$.\n",
    "\n",
    "Second, we simulate $M'$ to get to the probabilities."
   ]
  },
  {
   "cell_type": "code",
   "execution_count": 24,
   "id": "radio-cable",
   "metadata": {},
   "outputs": [
    {
     "name": "stdout",
     "output_type": "stream",
     "text": [
      "Intervention do(X=0):\n",
      " p(X=0,Y=0)=0.8199083\n",
      "p(X=0,Y=1)=0.1800917\n",
      "p(X=1,Y=0)=0.0\n",
      "p(X=1,Y=1)=0.0\n",
      "\n",
      "Intervention do(X=1):\n",
      " p(X=0,Y=0)=0.0\n",
      "p(X=0,Y=1)=0.0\n",
      "p(X=1,Y=0)=0.179858\n",
      "p(X=1,Y=1)=0.820142\n",
      "\n"
     ]
    }
   ],
   "source": [
    "def SCM_intervened(N,p1,p2, interv):\n",
    "\n",
    "    U1 = np.random.binomial(1, p1, size=N)\n",
    "    U2 = np.random.binomial(1, p2, size=N)\n",
    "    X = np.repeat(interv, N)\n",
    "    Y = np.logical_xor(np.logical_xor(X, U1), U2)\n",
    "    \n",
    "    #reshape\n",
    "    X = X.reshape(-1,1)\n",
    "    Y = Y.reshape(-1,1)\n",
    "    D = np.hstack((X,Y)) # data\n",
    "    \n",
    "    return D\n",
    "\n",
    "D_i0 = SCM_intervened(N, p1, p2, interv=0) # this is intervened do(X=0)\n",
    "D_i1 = SCM_intervened(N, p1, p2, interv=1)\n",
    "\n",
    "ps_i0 = joint_probs(pd.DataFrame(D_i0, columns=[\"X\",\"Y\"]), N)\n",
    "ps_i1 = joint_probs(pd.DataFrame(D_i1, columns=[\"X\",\"Y\"]), N)\n",
    "\n",
    "assert(np.allclose(sum(ps_i0), 1.))\n",
    "assert(np.allclose(sum(ps_i1), 1.))\n",
    "\n",
    "print(f'Intervention do(X=0):\\n p(X=0,Y=0)={ps_i0[0]}\\np(X=0,Y=1)={ps_i0[1]}\\np(X=1,Y=0)={ps_i0[2]}\\np(X=1,Y=1)={ps_i0[3]}\\n')\n",
    "print(f'Intervention do(X=1):\\n p(X=0,Y=0)={ps_i1[0]}\\np(X=0,Y=1)={ps_i1[1]}\\np(X=1,Y=0)={ps_i1[2]}\\np(X=1,Y=1)={ps_i1[3]}\\n')\n"
   ]
  },
  {
   "cell_type": "markdown",
   "id": "interpreted-symphony",
   "metadata": {},
   "source": [
    "And indeed our result is correct, if you look at above.\n",
    "\n",
    "Remember $\\mu_x = \\mathbb{E}[Y|do(X=x)] = \\sum_y y*p(Y|do(X=x))$. Since $y\\in\\{0,1\\}$ we have that $\\mu_x = p(Y=1|do(X=x))$\n",
    "\n",
    "In ZB17 they claim $\\mu_0 = 0.18, \\mu_1 = 0.82$.\n",
    "\n",
    "\n",
    "Next, we start looking into the actual interesting stuff namely the bounds. They don't have the intervened SCM $M'$ of course but only $P_M(X,Y)$ (not even the $U$, see Task 1 (4) in ZB17).\n",
    "\n",
    "Bound is given by $$\\mathbb{E}[Y|do(X=0)] \\geq l := p_{01}, \\quad \\mathbb{E}[Y|do(X=1)] \\geq l := p_{11}$$ \n",
    "\n",
    "and \n",
    "\n",
    "$$\\mathbb{E}[Y|do(X=0)] \\leq h := l + p_{10} + p_{11}, \\quad \\mathbb{E}[Y|do(X=1)] \\leq h := l + p_{00} + p_{01}.$$"
   ]
  },
  {
   "cell_type": "code",
   "execution_count": 25,
   "id": "altered-chinese",
   "metadata": {},
   "outputs": [
    {
     "name": "stdout",
     "output_type": "stream",
     "text": [
      "l_0 = 0.0900 <= E[Y|do(X=0)]=0.1801 <= h_0 = 0.9901\n",
      "l_1 = 0.8100 <= E[Y|do(X=1)]=0.8201 <= h_1 = 0.9100\n"
     ]
    }
   ],
   "source": [
    "def compute_bounds(ps):\n",
    "\n",
    "    l_0 = ps[1]\n",
    "    l_1 = ps[3]\n",
    "\n",
    "    h_0 = l_0 + ps[2] + ps[3]\n",
    "    h_1 = l_1 + ps[0] + ps[1]\n",
    "    \n",
    "    return (l_0, h_0), (l_1, h_1)\n",
    "\n",
    "(l_0, h_0), (l_1, h_1) = compute_bounds(ps)\n",
    "\n",
    "print(f'l_0 = {l_0:.4f} <= E[Y|do(X=0)]={ps_i0[1]:.4f} <= h_0 = {h_0:.4f}')\n",
    "print(f'l_1 = {l_1:.4f} <= E[Y|do(X=1)]={ps_i1[3]:.4f} <= h_1 = {h_1:.4f}')"
   ]
  },
  {
   "cell_type": "markdown",
   "id": "viral-costs",
   "metadata": {},
   "source": [
    "Now let's plot the bounds tightness as a function of the number of samples $K$ from $P_M(X,Y)$ we get."
   ]
  },
  {
   "cell_type": "code",
   "execution_count": 26,
   "id": "designed-pleasure",
   "metadata": {},
   "outputs": [
    {
     "name": "stdout",
     "output_type": "stream",
     "text": [
      "(l_0,h_0)=(0.000,0.900)\t (l_1,h_1)=(0.600,0.700)\n",
      "(l_0,h_0)=(0.080,0.980)\t (l_1,h_1)=(0.740,0.840)\n",
      "(l_0,h_0)=(0.070,0.980)\t (l_1,h_1)=(0.820,0.910)\n",
      "(l_0,h_0)=(0.102,0.988)\t (l_1,h_1)=(0.804,0.918)\n",
      "(l_0,h_0)=(0.099,0.991)\t (l_1,h_1)=(0.801,0.909)\n",
      "(l_0,h_0)=(0.092,0.989)\t (l_1,h_1)=(0.805,0.907)\n",
      "(l_0,h_0)=(0.090,0.990)\t (l_1,h_1)=(0.811,0.912)\n",
      "(l_0,h_0)=(0.090,0.990)\t (l_1,h_1)=(0.810,0.910)\n",
      "(l_0,h_0)=(0.090,0.990)\t (l_1,h_1)=(0.810,0.910)\n",
      "(l_0,h_0)=(0.090,0.990)\t (l_1,h_1)=(0.810,0.910)\n",
      "(l_0,h_0)=(0.090,0.990)\t (l_1,h_1)=(0.810,0.910)\n",
      "(l_0,h_0)=(0.090,0.990)\t (l_1,h_1)=(0.810,0.910)\n",
      "(l_0,h_0)=(0.090,0.990)\t (l_1,h_1)=(0.810,0.910)\n"
     ]
    },
    {
     "data": {
      "image/png": "[encoded data removed]",
      "text/plain": [
       "<Figure size 432x288 with 1 Axes>"
      ]
     },
     "metadata": {
      "needs_background": "light"
     },
     "output_type": "display_data"
    }
   ],
   "source": [
    "ts_0 = []\n",
    "ts_1 = []\n",
    "Ks = [10, 50, 100, 500, 1000, 5000, 10000, 5e4, 1e5, 5e5, 1e6, 5e6, 1e7]\n",
    "for K in Ks:\n",
    "    assert(N >= K)\n",
    "    ps = joint_probs(df[:int(K)], K)\n",
    "    assert(np.allclose(sum(ps), 1.))\n",
    "    (l_0, h_0), (l_1, h_1) = compute_bounds(ps)\n",
    "    t_0 = h_0-l_0 # \"tightness of bound\"\n",
    "    t_1 = h_1-l_1\n",
    "    ts_0.append(t_0)\n",
    "    ts_1.append(t_1)\n",
    "    print(f'(l_0,h_0)=({l_0:.3f},{h_0:.3f})\\t (l_1,h_1)=({l_1:.3f},{h_1:.3f})')\n",
    "\n",
    "plt.plot(Ks, ts_0, label=\"do(X=0)\")\n",
    "plt.plot(Ks, ts_1, label=\"do(X=1)\")\n",
    "plt.legend()\n",
    "plt.title(\"Tightness of Bound reduces with more samples\")\n",
    "plt.gca().set_xscale('log')\n",
    "plt.show()"
   ]
  },
  {
   "cell_type": "markdown",
   "id": "sunrise-indianapolis",
   "metadata": {},
   "source": [
    "We can see, the bound unfortunately does not improve much and it is only tight-ish on $do(X=1)$ for this specific SCM.\n",
    "\n",
    "Also, we note that the Theorem 1 from ZB17 only gives guarantees for the actual *exact* probabilities, and here we have only estimates of those and of course with a few samples only these will be wrong.\n",
    "\n",
    "Yet again, we don't know anything about the structural equations $\\mathcal{F}$ in this bound just the base graph essentially, and for that it is actually quite surprising already!"
   ]
  },
  {
   "cell_type": "markdown",
   "id": "finished-addiction",
   "metadata": {},
   "source": []
  },
  {
   "cell_type": "markdown",
   "id": "expected-vacation",
   "metadata": {},
   "source": []
  },
  {
   "cell_type": "markdown",
   "id": "flexible-geology",
   "metadata": {},
   "source": [
    "Now, we might as well check for the family of SCMs that share the structure and equations with $M$.\n",
    "\n",
    "That is, all the different parameterizations $P(\\mathbf{U})$ and also across multiple random seeds."
   ]
  },
  {
   "cell_type": "code",
   "execution_count": 62,
   "id": "southern-ordinary",
   "metadata": {},
   "outputs": [
    {
     "data": {
      "application/vnd.jupyter.widget-view+json": {
       "model_id": "d3282ad9c78b4844a4014ed64b01eb46",
       "version_major": 2,
       "version_minor": 0
      },
      "text/plain": [
       "HBox(children=(FloatProgress(value=0.0, description='Run ', max=5.0, style=ProgressStyle(description_width='in…"
      ]
     },
     "metadata": {},
     "output_type": "display_data"
    },
    {
     "name": "stdout",
     "output_type": "stream",
     "text": [
      "\n"
     ]
    }
   ],
   "source": [
    "#%debug\n",
    "from tqdm.notebook import tqdm\n",
    "\n",
    "from collections import defaultdict\n",
    "def recursively_default_dict():\n",
    "    return defaultdict(recursively_default_dict)\n",
    "d = recursively_default_dict()\n",
    "\n",
    "N = int(1e5)\n",
    "seeds = [230, 12, 4959, 77, 988]\n",
    "p_vals = [.1, .25, .5, .75, .9]\n",
    "for seed in tqdm(seeds, desc=\"Run \"):\n",
    "    for u1 in p_vals:\n",
    "        for u2 in p_vals:\n",
    "\n",
    "            D = SCM(N, u1, u2) # this is observational\n",
    "            D_i0 = SCM_intervened(N, u1, u2, interv=0) # this is intervened do(X=0)\n",
    "            D_i1 = SCM_intervened(N, u1, u2, interv=1)\n",
    "\n",
    "            ps = joint_probs(pd.DataFrame(D, columns=[\"X\",\"Y\"]), N)\n",
    "            ps_i0 = joint_probs(pd.DataFrame(D_i0, columns=[\"X\",\"Y\"]), N)\n",
    "            ps_i1 = joint_probs(pd.DataFrame(D_i1, columns=[\"X\",\"Y\"]), N)\n",
    "\n",
    "            ts_0 = []\n",
    "            ts_1 = []\n",
    "            Ks = [10, 50, 100, 500, 1000, 5000, 10000, 5e4, 1e5]\n",
    "            for K in Ks:\n",
    "                assert(N >= K)\n",
    "                ps = joint_probs(df[:int(K)], K)\n",
    "                assert(np.allclose(sum(ps), 1.))\n",
    "                (l_0, h_0), (l_1, h_1) = compute_bounds(ps)\n",
    "                t_0 = h_0-l_0 # \"tightness of bound\"\n",
    "                t_1 = h_1-l_1\n",
    "                ts_0.append(t_0)\n",
    "                ts_1.append(t_1)\n",
    "                d[str(seed)][str(u1)][str(u2)][str(K)] = (t_0, t_1)"
   ]
  },
  {
   "cell_type": "code",
   "execution_count": 94,
   "id": "color-output",
   "metadata": {},
   "outputs": [
    {
     "data": {
      "image/png": "[encoded data removed]",
      "text/plain": [
       "<Figure size 1080x1080 with 25 Axes>"
      ]
     },
     "metadata": {
      "needs_background": "light"
     },
     "output_type": "display_data"
    }
   ],
   "source": [
    "fig, axs = plt.subplots(5, 5, sharex=True, sharey=True, figsize=(15,15))\n",
    "\n",
    "for a, u1 in enumerate(p_vals):\n",
    "    for b, u2 in enumerate(p_vals):\n",
    "        \n",
    "        base = [d[seed][str(u1)][str(u2)] for seed in d.keys()]\n",
    "        base_t_0 = [[t[str(K)][0] for t in base] for K in Ks]\n",
    "        base_t_1 = [[t[str(K)][1] for t in base] for K in Ks]\n",
    "        \n",
    "        mean_ts_0 = np.array([np.mean(base_t_0) for K in Ks])\n",
    "        std_ts_0 = np.array([np.std(base_t_0) for K in Ks])\n",
    "        mean_ts_1 = np.array([np.mean(base_t_1) for K in Ks])\n",
    "        std_ts_1 = np.array([np.std(base_t_1) for K in Ks])\n",
    "        \n",
    "        axs[a,b].plot(Ks, ts_0, label=\"do(X=0)\", color='blue')\n",
    "        axs[a,b].fill_between(Ks, mean_ts_0 - std_ts_0, ts_0 + std_ts_0,\n",
    "                 color='blue', alpha=0.2)\n",
    "        \n",
    "        axs[a,b].plot(Ks, ts_1, label=\"do(X=1)\", color='orange')\n",
    "        axs[a,b].fill_between(Ks, mean_ts_1 - std_ts_1, ts_1 + std_ts_1,\n",
    "                 color='orange', alpha=0.2)\n",
    "        \n",
    "        axs[a,b].set_title(f\"p_1 = {u1}, p_2 = {u2}\")\n",
    "        plt.gca().set_xscale('log')\n",
    "        \n",
    "plt.legend()\n",
    "plt.suptitle(f\"Averages over {len(seeds)} random seeds for {len(p_vals)**2} different parameterizations of P(U)\")\n",
    "plt.show()"
   ]
  },
  {
   "cell_type": "markdown",
   "id": "continuing-batman",
   "metadata": {},
   "source": [
    "As we observe, it is consistent across random seeds and furthermore it is consistent across different parameterizations of $P(\\mathbf{U})$ suggesting that the structure is the key part in this bound."
   ]
  },
  {
   "cell_type": "code",
   "execution_count": null,
   "id": "statutory-novelty",
   "metadata": {},
   "outputs": [],
   "source": []
  }
 ],
 "metadata": {
  "interpreter": {
   "hash": "fee2154a520057aba9582f4676fb1abe67f001c6ddbbcd2e74f2a5bad9d5b013"
  },
  "kernelspec": {
   "display_name": "Python 3",
   "language": "python",
   "name": "python3"
  },
  "language_info": {
   "codemirror_mode": {
    "name": "ipython",
    "version": 3
   },
   "file_extension": ".py",
   "mimetype": "text/x-python",
   "name": "python",
   "nbconvert_exporter": "python",
   "pygments_lexer": "ipython3",
   "version": "3.7.8"
  }
 },
 "nbformat": 4,
 "nbformat_minor": 5
}
